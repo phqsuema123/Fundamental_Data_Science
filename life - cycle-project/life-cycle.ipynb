{
 "cells": [
  {
   "cell_type": "markdown",
   "id": "83ca7695-bb37-47a5-ab17-7426b03e76c2",
   "metadata": {},
   "source": [
    "**Business Understanding**"
   ]
  },
  {
   "cell_type": "markdown",
   "id": "7cfe8e22-2fb4-42b7-a602-46d9fd85fa28",
   "metadata": {},
   "source": [
    "Thailand Happiness"
   ]
  },
  {
   "cell_type": "markdown",
   "id": "4d9ecb1d-9659-4a5c-9f81-e79118525a5c",
   "metadata": {},
   "source": [
    "find cluster"
   ]
  },
  {
   "cell_type": "markdown",
   "id": "a3bc8bb7-f913-417e-8ec7-a07c345870cc",
   "metadata": {},
   "source": [
    "**Data Understanding**"
   ]
  },
  {
   "cell_type": "code",
   "execution_count": 1,
   "id": "dff68f47-54c7-475c-8701-d8739fc5d52a",
   "metadata": {},
   "outputs": [],
   "source": [
    "import pandas as pd\n",
    "import matplotlib.pyplot as plt\n",
    "import numpy as np\n",
    "import seaborn as sns\n",
    "from sklearn.cluster import KMeans\n",
    "from sklearn.datasets import make_blobs\n",
    "from sklearn.metrics import silhouette_samples,silhouette_score\n",
    "from sklearn.metrics import classification_report\n",
    "from sklearn.metrics import confusion_matrix\n",
    "from sklearn.metrics import accuracy_score\n",
    "from yellowbrick.cluster import SilhouetteVisualizer\n",
    "from sklearn import preprocessing\n",
    "from sklearn.cluster import KMeans"
   ]
  },
  {
   "cell_type": "code",
   "execution_count": 2,
   "id": "af36d569-cbb3-4d89-9065-442d290a7e05",
   "metadata": {},
   "outputs": [],
   "source": [
    "df1=pd.read_excel('rankhappy.xls')"
   ]
  },
  {
   "cell_type": "markdown",
   "id": "e90fe1b0-f08b-4863-b9be-628821ef1584",
   "metadata": {},
   "source": [
    "**Data Preparation**"
   ]
  },
  {
   "cell_type": "code",
   "execution_count": 3,
   "id": "fc7db532-7840-4e4d-a753-a8584fe09718",
   "metadata": {},
   "outputs": [
    {
     "name": "stdout",
     "output_type": "stream",
     "text": [
      "<class 'pandas.core.frame.DataFrame'>\n",
      "RangeIndex: 1949 entries, 0 to 1948\n",
      "Data columns (total 11 columns):\n",
      " #   Column                            Non-Null Count  Dtype  \n",
      "---  ------                            --------------  -----  \n",
      " 0   Country name                      1949 non-null   object \n",
      " 1   year                              1949 non-null   int64  \n",
      " 2   Life Ladder                       1949 non-null   float64\n",
      " 3   Log GDP per capita                1913 non-null   float64\n",
      " 4   Social support                    1936 non-null   float64\n",
      " 5   Healthy life expectancy at birth  1894 non-null   float64\n",
      " 6   Freedom to make life choices      1917 non-null   float64\n",
      " 7   Generosity                        1860 non-null   float64\n",
      " 8   Perceptions of corruption         1839 non-null   float64\n",
      " 9   Positive affect                   1927 non-null   float64\n",
      " 10  Negative affect                   1933 non-null   float64\n",
      "dtypes: float64(9), int64(1), object(1)\n",
      "memory usage: 167.6+ KB\n"
     ]
    }
   ],
   "source": [
    "df1.info()"
   ]
  },
  {
   "cell_type": "code",
   "execution_count": 4,
   "id": "a5023b74-c618-4ddc-8422-8e86b7d42470",
   "metadata": {},
   "outputs": [
    {
     "data": {
      "text/html": [
       "<div>\n",
       "<style scoped>\n",
       "    .dataframe tbody tr th:only-of-type {\n",
       "        vertical-align: middle;\n",
       "    }\n",
       "\n",
       "    .dataframe tbody tr th {\n",
       "        vertical-align: top;\n",
       "    }\n",
       "\n",
       "    .dataframe thead th {\n",
       "        text-align: right;\n",
       "    }\n",
       "</style>\n",
       "<table border=\"1\" class=\"dataframe\">\n",
       "  <thead>\n",
       "    <tr style=\"text-align: right;\">\n",
       "      <th></th>\n",
       "      <th>Country name</th>\n",
       "      <th>year</th>\n",
       "      <th>Life Ladder</th>\n",
       "      <th>Log GDP per capita</th>\n",
       "      <th>Social support</th>\n",
       "      <th>Healthy life expectancy at birth</th>\n",
       "      <th>Freedom to make life choices</th>\n",
       "      <th>Generosity</th>\n",
       "      <th>Perceptions of corruption</th>\n",
       "      <th>Positive affect</th>\n",
       "      <th>Negative affect</th>\n",
       "    </tr>\n",
       "  </thead>\n",
       "  <tbody>\n",
       "    <tr>\n",
       "      <th>1944</th>\n",
       "      <td>Zimbabwe</td>\n",
       "      <td>2016</td>\n",
       "      <td>3.735400</td>\n",
       "      <td>7.984372</td>\n",
       "      <td>0.768425</td>\n",
       "      <td>54.400002</td>\n",
       "      <td>0.732971</td>\n",
       "      <td>-0.094634</td>\n",
       "      <td>0.723612</td>\n",
       "      <td>0.737636</td>\n",
       "      <td>0.208555</td>\n",
       "    </tr>\n",
       "    <tr>\n",
       "      <th>1945</th>\n",
       "      <td>Zimbabwe</td>\n",
       "      <td>2017</td>\n",
       "      <td>3.638300</td>\n",
       "      <td>8.015738</td>\n",
       "      <td>0.754147</td>\n",
       "      <td>55.000000</td>\n",
       "      <td>0.752826</td>\n",
       "      <td>-0.097645</td>\n",
       "      <td>0.751208</td>\n",
       "      <td>0.806428</td>\n",
       "      <td>0.224051</td>\n",
       "    </tr>\n",
       "    <tr>\n",
       "      <th>1946</th>\n",
       "      <td>Zimbabwe</td>\n",
       "      <td>2018</td>\n",
       "      <td>3.616480</td>\n",
       "      <td>8.048798</td>\n",
       "      <td>0.775388</td>\n",
       "      <td>55.599998</td>\n",
       "      <td>0.762675</td>\n",
       "      <td>-0.068427</td>\n",
       "      <td>0.844209</td>\n",
       "      <td>0.710119</td>\n",
       "      <td>0.211726</td>\n",
       "    </tr>\n",
       "    <tr>\n",
       "      <th>1947</th>\n",
       "      <td>Zimbabwe</td>\n",
       "      <td>2019</td>\n",
       "      <td>2.693523</td>\n",
       "      <td>7.950132</td>\n",
       "      <td>0.759162</td>\n",
       "      <td>56.200001</td>\n",
       "      <td>0.631908</td>\n",
       "      <td>-0.063791</td>\n",
       "      <td>0.830652</td>\n",
       "      <td>0.716004</td>\n",
       "      <td>0.235354</td>\n",
       "    </tr>\n",
       "    <tr>\n",
       "      <th>1948</th>\n",
       "      <td>Zimbabwe</td>\n",
       "      <td>2020</td>\n",
       "      <td>3.159802</td>\n",
       "      <td>7.828757</td>\n",
       "      <td>0.717243</td>\n",
       "      <td>56.799999</td>\n",
       "      <td>0.643303</td>\n",
       "      <td>-0.008696</td>\n",
       "      <td>0.788523</td>\n",
       "      <td>0.702573</td>\n",
       "      <td>0.345736</td>\n",
       "    </tr>\n",
       "  </tbody>\n",
       "</table>\n",
       "</div>"
      ],
      "text/plain": [
       "     Country name  year  Life Ladder  Log GDP per capita  Social support  \\\n",
       "1944     Zimbabwe  2016     3.735400            7.984372        0.768425   \n",
       "1945     Zimbabwe  2017     3.638300            8.015738        0.754147   \n",
       "1946     Zimbabwe  2018     3.616480            8.048798        0.775388   \n",
       "1947     Zimbabwe  2019     2.693523            7.950132        0.759162   \n",
       "1948     Zimbabwe  2020     3.159802            7.828757        0.717243   \n",
       "\n",
       "      Healthy life expectancy at birth  Freedom to make life choices  \\\n",
       "1944                         54.400002                      0.732971   \n",
       "1945                         55.000000                      0.752826   \n",
       "1946                         55.599998                      0.762675   \n",
       "1947                         56.200001                      0.631908   \n",
       "1948                         56.799999                      0.643303   \n",
       "\n",
       "      Generosity  Perceptions of corruption  Positive affect  Negative affect  \n",
       "1944   -0.094634                   0.723612         0.737636         0.208555  \n",
       "1945   -0.097645                   0.751208         0.806428         0.224051  \n",
       "1946   -0.068427                   0.844209         0.710119         0.211726  \n",
       "1947   -0.063791                   0.830652         0.716004         0.235354  \n",
       "1948   -0.008696                   0.788523         0.702573         0.345736  "
      ]
     },
     "execution_count": 4,
     "metadata": {},
     "output_type": "execute_result"
    }
   ],
   "source": [
    "df1.tail()"
   ]
  },
  {
   "cell_type": "code",
   "execution_count": 5,
   "id": "7861db4f-dcea-480d-958f-1b46b086d6e2",
   "metadata": {},
   "outputs": [
    {
     "data": {
      "text/html": [
       "<div>\n",
       "<style scoped>\n",
       "    .dataframe tbody tr th:only-of-type {\n",
       "        vertical-align: middle;\n",
       "    }\n",
       "\n",
       "    .dataframe tbody tr th {\n",
       "        vertical-align: top;\n",
       "    }\n",
       "\n",
       "    .dataframe thead th {\n",
       "        text-align: right;\n",
       "    }\n",
       "</style>\n",
       "<table border=\"1\" class=\"dataframe\">\n",
       "  <thead>\n",
       "    <tr style=\"text-align: right;\">\n",
       "      <th></th>\n",
       "      <th>Country name</th>\n",
       "      <th>year</th>\n",
       "      <th>Life Ladder</th>\n",
       "      <th>Log GDP per capita</th>\n",
       "      <th>Social support</th>\n",
       "      <th>Healthy life expectancy at birth</th>\n",
       "      <th>Freedom to make life choices</th>\n",
       "      <th>Generosity</th>\n",
       "      <th>Perceptions of corruption</th>\n",
       "      <th>Positive affect</th>\n",
       "      <th>Negative affect</th>\n",
       "    </tr>\n",
       "  </thead>\n",
       "  <tbody>\n",
       "    <tr>\n",
       "      <th>1249</th>\n",
       "      <td>Nicaragua</td>\n",
       "      <td>2016</td>\n",
       "      <td>6.012740</td>\n",
       "      <td>8.667662</td>\n",
       "      <td>0.852702</td>\n",
       "      <td>66.900002</td>\n",
       "      <td>0.716534</td>\n",
       "      <td>0.039407</td>\n",
       "      <td>0.731465</td>\n",
       "      <td>0.805124</td>\n",
       "      <td>0.380347</td>\n",
       "    </tr>\n",
       "    <tr>\n",
       "      <th>250</th>\n",
       "      <td>Burkina Faso</td>\n",
       "      <td>2012</td>\n",
       "      <td>3.955008</td>\n",
       "      <td>7.519517</td>\n",
       "      <td>0.743766</td>\n",
       "      <td>50.779999</td>\n",
       "      <td>0.621849</td>\n",
       "      <td>-0.069597</td>\n",
       "      <td>0.726287</td>\n",
       "      <td>0.544851</td>\n",
       "      <td>0.299723</td>\n",
       "    </tr>\n",
       "    <tr>\n",
       "      <th>1527</th>\n",
       "      <td>Singapore</td>\n",
       "      <td>2013</td>\n",
       "      <td>6.533207</td>\n",
       "      <td>11.357275</td>\n",
       "      <td>0.807911</td>\n",
       "      <td>75.459999</td>\n",
       "      <td>0.827103</td>\n",
       "      <td>0.114949</td>\n",
       "      <td>0.242398</td>\n",
       "      <td>0.769633</td>\n",
       "      <td>0.147688</td>\n",
       "    </tr>\n",
       "    <tr>\n",
       "      <th>1836</th>\n",
       "      <td>United States</td>\n",
       "      <td>2006</td>\n",
       "      <td>7.181794</td>\n",
       "      <td>10.923974</td>\n",
       "      <td>0.964572</td>\n",
       "      <td>68.059998</td>\n",
       "      <td>0.911496</td>\n",
       "      <td>NaN</td>\n",
       "      <td>0.600309</td>\n",
       "      <td>0.827417</td>\n",
       "      <td>0.260511</td>\n",
       "    </tr>\n",
       "    <tr>\n",
       "      <th>1272</th>\n",
       "      <td>Nigeria</td>\n",
       "      <td>2012</td>\n",
       "      <td>5.492954</td>\n",
       "      <td>8.543129</td>\n",
       "      <td>0.817580</td>\n",
       "      <td>47.119999</td>\n",
       "      <td>0.651689</td>\n",
       "      <td>0.066321</td>\n",
       "      <td>0.900431</td>\n",
       "      <td>0.810906</td>\n",
       "      <td>0.209099</td>\n",
       "    </tr>\n",
       "    <tr>\n",
       "      <th>1437</th>\n",
       "      <td>Romania</td>\n",
       "      <td>2017</td>\n",
       "      <td>6.089905</td>\n",
       "      <td>10.210666</td>\n",
       "      <td>0.811240</td>\n",
       "      <td>66.900002</td>\n",
       "      <td>0.838587</td>\n",
       "      <td>-0.159790</td>\n",
       "      <td>0.925658</td>\n",
       "      <td>0.733730</td>\n",
       "      <td>0.230836</td>\n",
       "    </tr>\n",
       "    <tr>\n",
       "      <th>1571</th>\n",
       "      <td>South Africa</td>\n",
       "      <td>2011</td>\n",
       "      <td>4.930511</td>\n",
       "      <td>9.446725</td>\n",
       "      <td>0.857703</td>\n",
       "      <td>51.459999</td>\n",
       "      <td>0.835448</td>\n",
       "      <td>-0.154246</td>\n",
       "      <td>0.819182</td>\n",
       "      <td>0.763071</td>\n",
       "      <td>0.230214</td>\n",
       "    </tr>\n",
       "    <tr>\n",
       "      <th>1003</th>\n",
       "      <td>Lithuania</td>\n",
       "      <td>2008</td>\n",
       "      <td>5.553926</td>\n",
       "      <td>10.199043</td>\n",
       "      <td>0.913667</td>\n",
       "      <td>63.820000</td>\n",
       "      <td>0.621060</td>\n",
       "      <td>-0.259447</td>\n",
       "      <td>0.960843</td>\n",
       "      <td>0.532837</td>\n",
       "      <td>0.275796</td>\n",
       "    </tr>\n",
       "    <tr>\n",
       "      <th>1824</th>\n",
       "      <td>United Kingdom</td>\n",
       "      <td>2009</td>\n",
       "      <td>6.906547</td>\n",
       "      <td>10.637608</td>\n",
       "      <td>0.964429</td>\n",
       "      <td>71.019997</td>\n",
       "      <td>0.816229</td>\n",
       "      <td>0.341457</td>\n",
       "      <td>0.558927</td>\n",
       "      <td>0.846380</td>\n",
       "      <td>0.231029</td>\n",
       "    </tr>\n",
       "    <tr>\n",
       "      <th>1865</th>\n",
       "      <td>Uruguay</td>\n",
       "      <td>2020</td>\n",
       "      <td>6.309681</td>\n",
       "      <td>9.937192</td>\n",
       "      <td>0.921070</td>\n",
       "      <td>69.199997</td>\n",
       "      <td>0.907762</td>\n",
       "      <td>-0.083987</td>\n",
       "      <td>0.491008</td>\n",
       "      <td>0.807351</td>\n",
       "      <td>0.264692</td>\n",
       "    </tr>\n",
       "  </tbody>\n",
       "</table>\n",
       "</div>"
      ],
      "text/plain": [
       "        Country name  year  Life Ladder  Log GDP per capita  Social support  \\\n",
       "1249       Nicaragua  2016     6.012740            8.667662        0.852702   \n",
       "250     Burkina Faso  2012     3.955008            7.519517        0.743766   \n",
       "1527       Singapore  2013     6.533207           11.357275        0.807911   \n",
       "1836   United States  2006     7.181794           10.923974        0.964572   \n",
       "1272         Nigeria  2012     5.492954            8.543129        0.817580   \n",
       "1437         Romania  2017     6.089905           10.210666        0.811240   \n",
       "1571    South Africa  2011     4.930511            9.446725        0.857703   \n",
       "1003       Lithuania  2008     5.553926           10.199043        0.913667   \n",
       "1824  United Kingdom  2009     6.906547           10.637608        0.964429   \n",
       "1865         Uruguay  2020     6.309681            9.937192        0.921070   \n",
       "\n",
       "      Healthy life expectancy at birth  Freedom to make life choices  \\\n",
       "1249                         66.900002                      0.716534   \n",
       "250                          50.779999                      0.621849   \n",
       "1527                         75.459999                      0.827103   \n",
       "1836                         68.059998                      0.911496   \n",
       "1272                         47.119999                      0.651689   \n",
       "1437                         66.900002                      0.838587   \n",
       "1571                         51.459999                      0.835448   \n",
       "1003                         63.820000                      0.621060   \n",
       "1824                         71.019997                      0.816229   \n",
       "1865                         69.199997                      0.907762   \n",
       "\n",
       "      Generosity  Perceptions of corruption  Positive affect  Negative affect  \n",
       "1249    0.039407                   0.731465         0.805124         0.380347  \n",
       "250    -0.069597                   0.726287         0.544851         0.299723  \n",
       "1527    0.114949                   0.242398         0.769633         0.147688  \n",
       "1836         NaN                   0.600309         0.827417         0.260511  \n",
       "1272    0.066321                   0.900431         0.810906         0.209099  \n",
       "1437   -0.159790                   0.925658         0.733730         0.230836  \n",
       "1571   -0.154246                   0.819182         0.763071         0.230214  \n",
       "1003   -0.259447                   0.960843         0.532837         0.275796  \n",
       "1824    0.341457                   0.558927         0.846380         0.231029  \n",
       "1865   -0.083987                   0.491008         0.807351         0.264692  "
      ]
     },
     "execution_count": 5,
     "metadata": {},
     "output_type": "execute_result"
    }
   ],
   "source": [
    "df1.sample(10)"
   ]
  },
  {
   "cell_type": "code",
   "execution_count": 6,
   "id": "d4333f44-a47c-4577-bc95-afddf2118b55",
   "metadata": {},
   "outputs": [
    {
     "name": "stderr",
     "output_type": "stream",
     "text": [
      "C:\\Users\\ASUS\\AppData\\Local\\Temp\\ipykernel_7864\\3473606719.py:1: UserWarning: Pandas doesn't allow columns to be created via a new attribute name - see https://pandas.pydata.org/pandas-docs/stable/indexing.html#attribute-access\n",
      "  df1.Date=pd.to_datetime(df1.year,format=\"%Y\")\n"
     ]
    }
   ],
   "source": [
    "df1.Date=pd.to_datetime(df1.year,format=\"%Y\")"
   ]
  },
  {
   "cell_type": "code",
   "execution_count": 7,
   "id": "a8b649e0-0915-4728-8031-87c292da368c",
   "metadata": {},
   "outputs": [],
   "source": [
    "df1.set_index('year',inplace=True)"
   ]
  },
  {
   "cell_type": "code",
   "execution_count": 8,
   "id": "3318d1a0-246e-49a8-bffc-8c7917d41f92",
   "metadata": {},
   "outputs": [],
   "source": [
    "df1=df1[df1['Country name'] == 'Thailand']"
   ]
  },
  {
   "cell_type": "code",
   "execution_count": 9,
   "id": "f6923d65-2976-4a86-a2a0-d6a88df1c467",
   "metadata": {},
   "outputs": [
    {
     "data": {
      "text/html": [
       "<div>\n",
       "<style scoped>\n",
       "    .dataframe tbody tr th:only-of-type {\n",
       "        vertical-align: middle;\n",
       "    }\n",
       "\n",
       "    .dataframe tbody tr th {\n",
       "        vertical-align: top;\n",
       "    }\n",
       "\n",
       "    .dataframe thead th {\n",
       "        text-align: right;\n",
       "    }\n",
       "</style>\n",
       "<table border=\"1\" class=\"dataframe\">\n",
       "  <thead>\n",
       "    <tr style=\"text-align: right;\">\n",
       "      <th></th>\n",
       "      <th>Country name</th>\n",
       "      <th>Life Ladder</th>\n",
       "      <th>Log GDP per capita</th>\n",
       "      <th>Social support</th>\n",
       "      <th>Healthy life expectancy at birth</th>\n",
       "      <th>Freedom to make life choices</th>\n",
       "      <th>Generosity</th>\n",
       "      <th>Perceptions of corruption</th>\n",
       "      <th>Positive affect</th>\n",
       "      <th>Negative affect</th>\n",
       "    </tr>\n",
       "    <tr>\n",
       "      <th>year</th>\n",
       "      <th></th>\n",
       "      <th></th>\n",
       "      <th></th>\n",
       "      <th></th>\n",
       "      <th></th>\n",
       "      <th></th>\n",
       "      <th></th>\n",
       "      <th></th>\n",
       "      <th></th>\n",
       "      <th></th>\n",
       "    </tr>\n",
       "  </thead>\n",
       "  <tbody>\n",
       "    <tr>\n",
       "      <th>2006</th>\n",
       "      <td>Thailand</td>\n",
       "      <td>5.885433</td>\n",
       "      <td>9.461148</td>\n",
       "      <td>0.894327</td>\n",
       "      <td>64.139999</td>\n",
       "      <td>0.863195</td>\n",
       "      <td>0.331460</td>\n",
       "      <td>0.934745</td>\n",
       "      <td>0.813509</td>\n",
       "      <td>0.164123</td>\n",
       "    </tr>\n",
       "    <tr>\n",
       "      <th>2007</th>\n",
       "      <td>Thailand</td>\n",
       "      <td>5.783891</td>\n",
       "      <td>9.508475</td>\n",
       "      <td>0.888634</td>\n",
       "      <td>64.480003</td>\n",
       "      <td>0.870159</td>\n",
       "      <td>0.390946</td>\n",
       "      <td>0.897753</td>\n",
       "      <td>0.831810</td>\n",
       "      <td>0.180010</td>\n",
       "    </tr>\n",
       "    <tr>\n",
       "      <th>2008</th>\n",
       "      <td>Thailand</td>\n",
       "      <td>5.636471</td>\n",
       "      <td>9.520327</td>\n",
       "      <td>0.831711</td>\n",
       "      <td>64.820000</td>\n",
       "      <td>0.867834</td>\n",
       "      <td>0.425482</td>\n",
       "      <td>0.933373</td>\n",
       "      <td>0.819038</td>\n",
       "      <td>0.145059</td>\n",
       "    </tr>\n",
       "    <tr>\n",
       "      <th>2009</th>\n",
       "      <td>Thailand</td>\n",
       "      <td>5.475645</td>\n",
       "      <td>9.508361</td>\n",
       "      <td>0.893245</td>\n",
       "      <td>65.160004</td>\n",
       "      <td>0.868224</td>\n",
       "      <td>0.524908</td>\n",
       "      <td>0.903822</td>\n",
       "      <td>0.897641</td>\n",
       "      <td>0.166086</td>\n",
       "    </tr>\n",
       "    <tr>\n",
       "      <th>2010</th>\n",
       "      <td>Thailand</td>\n",
       "      <td>6.216703</td>\n",
       "      <td>9.575911</td>\n",
       "      <td>0.897651</td>\n",
       "      <td>65.500000</td>\n",
       "      <td>0.859636</td>\n",
       "      <td>0.535985</td>\n",
       "      <td>0.916693</td>\n",
       "      <td>0.901268</td>\n",
       "      <td>0.181523</td>\n",
       "    </tr>\n",
       "    <tr>\n",
       "      <th>2011</th>\n",
       "      <td>Thailand</td>\n",
       "      <td>6.663609</td>\n",
       "      <td>9.579475</td>\n",
       "      <td>0.884351</td>\n",
       "      <td>65.720001</td>\n",
       "      <td>0.926882</td>\n",
       "      <td>0.400159</td>\n",
       "      <td>0.923196</td>\n",
       "      <td>0.934374</td>\n",
       "      <td>0.116676</td>\n",
       "    </tr>\n",
       "    <tr>\n",
       "      <th>2012</th>\n",
       "      <td>Thailand</td>\n",
       "      <td>6.300235</td>\n",
       "      <td>9.644709</td>\n",
       "      <td>0.906098</td>\n",
       "      <td>65.940002</td>\n",
       "      <td>0.846933</td>\n",
       "      <td>0.379859</td>\n",
       "      <td>0.908612</td>\n",
       "      <td>0.854544</td>\n",
       "      <td>0.137503</td>\n",
       "    </tr>\n",
       "    <tr>\n",
       "      <th>2013</th>\n",
       "      <td>Thailand</td>\n",
       "      <td>6.231025</td>\n",
       "      <td>9.666691</td>\n",
       "      <td>0.926378</td>\n",
       "      <td>66.160004</td>\n",
       "      <td>0.781082</td>\n",
       "      <td>0.456227</td>\n",
       "      <td>0.925430</td>\n",
       "      <td>0.845981</td>\n",
       "      <td>0.140831</td>\n",
       "    </tr>\n",
       "    <tr>\n",
       "      <th>2014</th>\n",
       "      <td>Thailand</td>\n",
       "      <td>6.985464</td>\n",
       "      <td>9.672178</td>\n",
       "      <td>0.933167</td>\n",
       "      <td>66.379997</td>\n",
       "      <td>0.899846</td>\n",
       "      <td>0.552521</td>\n",
       "      <td>0.919834</td>\n",
       "      <td>0.811370</td>\n",
       "      <td>0.168738</td>\n",
       "    </tr>\n",
       "    <tr>\n",
       "      <th>2015</th>\n",
       "      <td>Thailand</td>\n",
       "      <td>6.201763</td>\n",
       "      <td>9.699015</td>\n",
       "      <td>0.866325</td>\n",
       "      <td>66.599998</td>\n",
       "      <td>0.884917</td>\n",
       "      <td>0.315948</td>\n",
       "      <td>0.913651</td>\n",
       "      <td>0.910497</td>\n",
       "      <td>0.174081</td>\n",
       "    </tr>\n",
       "    <tr>\n",
       "      <th>2016</th>\n",
       "      <td>Thailand</td>\n",
       "      <td>6.073640</td>\n",
       "      <td>9.729001</td>\n",
       "      <td>0.907544</td>\n",
       "      <td>66.800003</td>\n",
       "      <td>0.924146</td>\n",
       "      <td>0.355719</td>\n",
       "      <td>0.877978</td>\n",
       "      <td>0.834758</td>\n",
       "      <td>0.217880</td>\n",
       "    </tr>\n",
       "    <tr>\n",
       "      <th>2017</th>\n",
       "      <td>Thailand</td>\n",
       "      <td>5.938895</td>\n",
       "      <td>9.765407</td>\n",
       "      <td>0.877269</td>\n",
       "      <td>67.000000</td>\n",
       "      <td>0.922897</td>\n",
       "      <td>0.212491</td>\n",
       "      <td>0.883817</td>\n",
       "      <td>0.816322</td>\n",
       "      <td>0.231598</td>\n",
       "    </tr>\n",
       "    <tr>\n",
       "      <th>2018</th>\n",
       "      <td>Thailand</td>\n",
       "      <td>6.011562</td>\n",
       "      <td>9.802921</td>\n",
       "      <td>0.873052</td>\n",
       "      <td>67.199997</td>\n",
       "      <td>0.904828</td>\n",
       "      <td>0.258844</td>\n",
       "      <td>0.906596</td>\n",
       "      <td>0.843489</td>\n",
       "      <td>0.198190</td>\n",
       "    </tr>\n",
       "    <tr>\n",
       "      <th>2019</th>\n",
       "      <td>Thailand</td>\n",
       "      <td>6.022151</td>\n",
       "      <td>9.823529</td>\n",
       "      <td>0.903051</td>\n",
       "      <td>67.400002</td>\n",
       "      <td>0.898245</td>\n",
       "      <td>0.308830</td>\n",
       "      <td>0.877040</td>\n",
       "      <td>0.842873</td>\n",
       "      <td>0.208184</td>\n",
       "    </tr>\n",
       "    <tr>\n",
       "      <th>2020</th>\n",
       "      <td>Thailand</td>\n",
       "      <td>5.884544</td>\n",
       "      <td>9.769243</td>\n",
       "      <td>0.866703</td>\n",
       "      <td>67.599998</td>\n",
       "      <td>0.840463</td>\n",
       "      <td>0.273056</td>\n",
       "      <td>0.918340</td>\n",
       "      <td>0.783270</td>\n",
       "      <td>0.326169</td>\n",
       "    </tr>\n",
       "  </tbody>\n",
       "</table>\n",
       "</div>"
      ],
      "text/plain": [
       "     Country name  Life Ladder  Log GDP per capita  Social support  \\\n",
       "year                                                                 \n",
       "2006     Thailand     5.885433            9.461148        0.894327   \n",
       "2007     Thailand     5.783891            9.508475        0.888634   \n",
       "2008     Thailand     5.636471            9.520327        0.831711   \n",
       "2009     Thailand     5.475645            9.508361        0.893245   \n",
       "2010     Thailand     6.216703            9.575911        0.897651   \n",
       "2011     Thailand     6.663609            9.579475        0.884351   \n",
       "2012     Thailand     6.300235            9.644709        0.906098   \n",
       "2013     Thailand     6.231025            9.666691        0.926378   \n",
       "2014     Thailand     6.985464            9.672178        0.933167   \n",
       "2015     Thailand     6.201763            9.699015        0.866325   \n",
       "2016     Thailand     6.073640            9.729001        0.907544   \n",
       "2017     Thailand     5.938895            9.765407        0.877269   \n",
       "2018     Thailand     6.011562            9.802921        0.873052   \n",
       "2019     Thailand     6.022151            9.823529        0.903051   \n",
       "2020     Thailand     5.884544            9.769243        0.866703   \n",
       "\n",
       "      Healthy life expectancy at birth  Freedom to make life choices  \\\n",
       "year                                                                   \n",
       "2006                         64.139999                      0.863195   \n",
       "2007                         64.480003                      0.870159   \n",
       "2008                         64.820000                      0.867834   \n",
       "2009                         65.160004                      0.868224   \n",
       "2010                         65.500000                      0.859636   \n",
       "2011                         65.720001                      0.926882   \n",
       "2012                         65.940002                      0.846933   \n",
       "2013                         66.160004                      0.781082   \n",
       "2014                         66.379997                      0.899846   \n",
       "2015                         66.599998                      0.884917   \n",
       "2016                         66.800003                      0.924146   \n",
       "2017                         67.000000                      0.922897   \n",
       "2018                         67.199997                      0.904828   \n",
       "2019                         67.400002                      0.898245   \n",
       "2020                         67.599998                      0.840463   \n",
       "\n",
       "      Generosity  Perceptions of corruption  Positive affect  Negative affect  \n",
       "year                                                                           \n",
       "2006    0.331460                   0.934745         0.813509         0.164123  \n",
       "2007    0.390946                   0.897753         0.831810         0.180010  \n",
       "2008    0.425482                   0.933373         0.819038         0.145059  \n",
       "2009    0.524908                   0.903822         0.897641         0.166086  \n",
       "2010    0.535985                   0.916693         0.901268         0.181523  \n",
       "2011    0.400159                   0.923196         0.934374         0.116676  \n",
       "2012    0.379859                   0.908612         0.854544         0.137503  \n",
       "2013    0.456227                   0.925430         0.845981         0.140831  \n",
       "2014    0.552521                   0.919834         0.811370         0.168738  \n",
       "2015    0.315948                   0.913651         0.910497         0.174081  \n",
       "2016    0.355719                   0.877978         0.834758         0.217880  \n",
       "2017    0.212491                   0.883817         0.816322         0.231598  \n",
       "2018    0.258844                   0.906596         0.843489         0.198190  \n",
       "2019    0.308830                   0.877040         0.842873         0.208184  \n",
       "2020    0.273056                   0.918340         0.783270         0.326169  "
      ]
     },
     "execution_count": 9,
     "metadata": {},
     "output_type": "execute_result"
    }
   ],
   "source": [
    "df1"
   ]
  },
  {
   "cell_type": "code",
   "execution_count": 10,
   "id": "428144c7-3068-40fb-80ed-a65d757801f8",
   "metadata": {},
   "outputs": [
    {
     "data": {
      "text/plain": [
       "Index(['Country name', 'Life Ladder', 'Log GDP per capita', 'Social support',\n",
       "       'Healthy life expectancy at birth', 'Freedom to make life choices',\n",
       "       'Generosity', 'Perceptions of corruption', 'Positive affect',\n",
       "       'Negative affect'],\n",
       "      dtype='object')"
      ]
     },
     "execution_count": 10,
     "metadata": {},
     "output_type": "execute_result"
    }
   ],
   "source": [
    "df1.columns"
   ]
  },
  {
   "cell_type": "code",
   "execution_count": 11,
   "id": "7c74f145-8286-438a-9533-a2c130ffda34",
   "metadata": {},
   "outputs": [],
   "source": [
    "df1=df1.rename(columns={'Country name':'Country_name',\n",
    "                        'Life Ladder':'Life_Ladder',\n",
    "                        'Log GDP per capita':'Log_GDP_per_capita',\n",
    "                        'Social support':'Social_support',\n",
    "       'Healthy life expectancy at birth':'Healthy_life_expectancy_at_birth', \n",
    "                        'Freedom to make life choices':'Freedom_to_make_life_choices',\n",
    "       'Generosity':'Generosity',\n",
    "                        'Perceptions of corruption':'Perceptions_of_corruption',\n",
    "                        'Positive_affect':'Positive_affect',\n",
    "       'Negative affect':'Negative_affect'\n",
    "                       })"
   ]
  },
  {
   "cell_type": "code",
   "execution_count": 12,
   "id": "fae6650d-220e-43c6-9c36-fdf21ab51537",
   "metadata": {},
   "outputs": [
    {
     "data": {
      "text/plain": [
       "Index(['Country_name', 'Life_Ladder', 'Log_GDP_per_capita', 'Social_support',\n",
       "       'Healthy_life_expectancy_at_birth', 'Freedom_to_make_life_choices',\n",
       "       'Generosity', 'Perceptions_of_corruption', 'Positive affect',\n",
       "       'Negative_affect'],\n",
       "      dtype='object')"
      ]
     },
     "execution_count": 12,
     "metadata": {},
     "output_type": "execute_result"
    }
   ],
   "source": [
    "df1.columns"
   ]
  },
  {
   "cell_type": "code",
   "execution_count": 13,
   "id": "01a8bb77-b96a-43e4-a452-f89f25649313",
   "metadata": {},
   "outputs": [
    {
     "data": {
      "text/plain": [
       "Country_name                        0\n",
       "Life_Ladder                         0\n",
       "Log_GDP_per_capita                  0\n",
       "Social_support                      0\n",
       "Healthy_life_expectancy_at_birth    0\n",
       "Freedom_to_make_life_choices        0\n",
       "Generosity                          0\n",
       "Perceptions_of_corruption           0\n",
       "Positive affect                     0\n",
       "Negative_affect                     0\n",
       "dtype: int64"
      ]
     },
     "execution_count": 13,
     "metadata": {},
     "output_type": "execute_result"
    }
   ],
   "source": [
    "df1.isnull().sum()"
   ]
  },
  {
   "cell_type": "code",
   "execution_count": 14,
   "id": "29ddd3db-77ce-4199-9160-d7df71af04da",
   "metadata": {},
   "outputs": [
    {
     "data": {
      "text/plain": [
       "<AxesSubplot:xlabel='year'>"
      ]
     },
     "execution_count": 14,
     "metadata": {},
     "output_type": "execute_result"
    },
    {
     "data": {
      "image/png": "[encoded data removed]",
      "text/plain": [
       "<Figure size 576x396 with 1 Axes>"
      ]
     },
     "metadata": {},
     "output_type": "display_data"
    }
   ],
   "source": [
    "pvt=df1.pivot_table(index='year',values='Life_Ladder')\n",
    "pvt.plot.bar()"
   ]
  },
  {
   "cell_type": "code",
   "execution_count": 15,
   "id": "46252472-f635-434d-ace8-2dd6d399c0a7",
   "metadata": {},
   "outputs": [
    {
     "data": {
      "text/plain": [
       "<AxesSubplot:xlabel='year'>"
      ]
     },
     "execution_count": 15,
     "metadata": {},
     "output_type": "execute_result"
    },
    {
     "data": {
      "image/png": "[encoded data removed]",
      "text/plain": [
       "<Figure size 576x396 with 1 Axes>"
      ]
     },
     "metadata": {},
     "output_type": "display_data"
    }
   ],
   "source": [
    "cols=['Freedom_to_make_life_choices']\n",
    "df1[cols].plot.line()"
   ]
  },
  {
   "cell_type": "markdown",
   "id": "7d1d730d-1501-4e6f-be4f-2fc31f2104fe",
   "metadata": {},
   "source": [
    "select data"
   ]
  },
  {
   "cell_type": "markdown",
   "id": "c07bacf0-bd67-456d-b130-fd3d42ca190e",
   "metadata": {},
   "source": [
    "**Modeling**"
   ]
  },
  {
   "cell_type": "code",
   "execution_count": 16,
   "id": "66ed4371-d7ec-4842-a70d-9d63f418f7b7",
   "metadata": {},
   "outputs": [],
   "source": [
    "colss=['Life_Ladder', 'Log_GDP_per_capita', 'Social_support',\n",
    "       'Healthy_life_expectancy_at_birth', 'Freedom_to_make_life_choices',\n",
    "       'Generosity', 'Perceptions_of_corruption', 'Positive affect',\n",
    "       'Negative_affect']"
   ]
  },
  {
   "cell_type": "code",
   "execution_count": 17,
   "id": "15a8c85f-a6bd-465f-8280-367d2b42f5d0",
   "metadata": {},
   "outputs": [
    {
     "data": {
      "text/plain": [
       "array([[<AxesSubplot:title={'center':'Life_Ladder'}>,\n",
       "        <AxesSubplot:title={'center':'Log_GDP_per_capita'}>,\n",
       "        <AxesSubplot:title={'center':'Social_support'}>,\n",
       "        <AxesSubplot:title={'center':'Healthy_life_expectancy_at_birth'}>,\n",
       "        <AxesSubplot:title={'center':'Freedom_to_make_life_choices'}>,\n",
       "        <AxesSubplot:title={'center':'Generosity'}>,\n",
       "        <AxesSubplot:title={'center':'Perceptions_of_corruption'}>,\n",
       "        <AxesSubplot:title={'center':'Positive affect'}>,\n",
       "        <AxesSubplot:title={'center':'Negative_affect'}>]], dtype=object)"
      ]
     },
     "execution_count": 17,
     "metadata": {},
     "output_type": "execute_result"
    },
    {
     "data": {
      "image/png": "[encoded data removed]",
      "text/plain": [
       "<Figure size 1944x252 with 9 Axes>"
      ]
     },
     "metadata": {},
     "output_type": "display_data"
    }
   ],
   "source": [
    "df1[colss].hist(layout=(1,len(colss)),figsize=(3*len(colss),3.5))"
   ]
  },
  {
   "cell_type": "code",
   "execution_count": 18,
   "id": "996e198b-483e-42ec-9de6-06d8c7db8d1f",
   "metadata": {},
   "outputs": [
    {
     "data": {
      "text/plain": [
       "array([[-0.4889, -1.6087,  0.1168, -1.6883, -0.5233, -0.4544,  1.6665,\n",
       "        -0.8834, -0.2844],\n",
       "       [-0.8354, -1.2212, -0.1209, -1.4397, -0.3406,  0.1595, -0.7584,\n",
       "        -0.3197,  0.1391],\n",
       "       [-1.3873, -1.1228, -2.1343, -1.1767, -0.4027,  0.4946,  1.5494,\n",
       "        -0.7048, -0.8876],\n",
       "       [-2.0641, -1.2221,  0.0711, -0.8987, -0.3924,  1.3824, -0.4503,\n",
       "         1.1771, -0.2285],\n",
       "       [ 0.4802, -0.6545,  0.259 , -0.6048, -0.613 ,  1.4748,  0.3089,\n",
       "         1.2404,  0.1761],\n",
       "       [ 1.4803, -0.624 , -0.295 , -0.4058,  1.5715,  0.2503,  0.7546,\n",
       "         1.7483, -2.0269],\n",
       "       [ 0.6909, -0.0583,  0.6319, -0.1996, -0.9135,  0.0487, -0.1855,\n",
       "         0.281 , -1.1599]])"
      ]
     },
     "execution_count": 18,
     "metadata": {},
     "output_type": "execute_result"
    }
   ],
   "source": [
    "scaler=preprocessing.PowerTransformer(standardize=True)\n",
    "S1=scaler.fit_transform(df1[colss])\n",
    "S1[:7].round(4)"
   ]
  },
  {
   "cell_type": "code",
   "execution_count": 19,
   "id": "9d73b312-e2c0-40b6-b706-3abc491b580d",
   "metadata": {},
   "outputs": [
    {
     "data": {
      "text/html": [
       "<div>\n",
       "<style scoped>\n",
       "    .dataframe tbody tr th:only-of-type {\n",
       "        vertical-align: middle;\n",
       "    }\n",
       "\n",
       "    .dataframe tbody tr th {\n",
       "        vertical-align: top;\n",
       "    }\n",
       "\n",
       "    .dataframe thead th {\n",
       "        text-align: right;\n",
       "    }\n",
       "</style>\n",
       "<table border=\"1\" class=\"dataframe\">\n",
       "  <thead>\n",
       "    <tr style=\"text-align: right;\">\n",
       "      <th></th>\n",
       "      <th>Life_Ladder</th>\n",
       "      <th>Log_GDP_per_capita</th>\n",
       "      <th>Social_support</th>\n",
       "      <th>Healthy_life_expectancy_at_birth</th>\n",
       "      <th>Freedom_to_make_life_choices</th>\n",
       "      <th>Generosity</th>\n",
       "      <th>Perceptions_of_corruption</th>\n",
       "      <th>Positive affect</th>\n",
       "      <th>Negative_affect</th>\n",
       "    </tr>\n",
       "  </thead>\n",
       "  <tbody>\n",
       "    <tr>\n",
       "      <th>0</th>\n",
       "      <td>-0.488881</td>\n",
       "      <td>-1.608657</td>\n",
       "      <td>0.116805</td>\n",
       "      <td>-1.688276</td>\n",
       "      <td>-0.523344</td>\n",
       "      <td>-0.454364</td>\n",
       "      <td>1.666541</td>\n",
       "      <td>-0.883384</td>\n",
       "      <td>-0.284443</td>\n",
       "    </tr>\n",
       "    <tr>\n",
       "      <th>1</th>\n",
       "      <td>-0.835404</td>\n",
       "      <td>-1.221190</td>\n",
       "      <td>-0.120868</td>\n",
       "      <td>-1.439679</td>\n",
       "      <td>-0.340634</td>\n",
       "      <td>0.159480</td>\n",
       "      <td>-0.758425</td>\n",
       "      <td>-0.319707</td>\n",
       "      <td>0.139063</td>\n",
       "    </tr>\n",
       "    <tr>\n",
       "      <th>2</th>\n",
       "      <td>-1.387326</td>\n",
       "      <td>-1.122848</td>\n",
       "      <td>-2.134271</td>\n",
       "      <td>-1.176749</td>\n",
       "      <td>-0.402740</td>\n",
       "      <td>0.494579</td>\n",
       "      <td>1.549395</td>\n",
       "      <td>-0.704841</td>\n",
       "      <td>-0.887579</td>\n",
       "    </tr>\n",
       "    <tr>\n",
       "      <th>3</th>\n",
       "      <td>-2.064066</td>\n",
       "      <td>-1.222137</td>\n",
       "      <td>0.071096</td>\n",
       "      <td>-0.898727</td>\n",
       "      <td>-0.392402</td>\n",
       "      <td>1.382370</td>\n",
       "      <td>-0.450306</td>\n",
       "      <td>1.177055</td>\n",
       "      <td>-0.228491</td>\n",
       "    </tr>\n",
       "    <tr>\n",
       "      <th>4</th>\n",
       "      <td>0.480227</td>\n",
       "      <td>-0.654489</td>\n",
       "      <td>0.259009</td>\n",
       "      <td>-0.604846</td>\n",
       "      <td>-0.612978</td>\n",
       "      <td>1.474844</td>\n",
       "      <td>0.308889</td>\n",
       "      <td>1.240404</td>\n",
       "      <td>0.176107</td>\n",
       "    </tr>\n",
       "  </tbody>\n",
       "</table>\n",
       "</div>"
      ],
      "text/plain": [
       "   Life_Ladder  Log_GDP_per_capita  Social_support  \\\n",
       "0    -0.488881           -1.608657        0.116805   \n",
       "1    -0.835404           -1.221190       -0.120868   \n",
       "2    -1.387326           -1.122848       -2.134271   \n",
       "3    -2.064066           -1.222137        0.071096   \n",
       "4     0.480227           -0.654489        0.259009   \n",
       "\n",
       "   Healthy_life_expectancy_at_birth  Freedom_to_make_life_choices  Generosity  \\\n",
       "0                         -1.688276                     -0.523344   -0.454364   \n",
       "1                         -1.439679                     -0.340634    0.159480   \n",
       "2                         -1.176749                     -0.402740    0.494579   \n",
       "3                         -0.898727                     -0.392402    1.382370   \n",
       "4                         -0.604846                     -0.612978    1.474844   \n",
       "\n",
       "   Perceptions_of_corruption  Positive affect  Negative_affect  \n",
       "0                   1.666541        -0.883384        -0.284443  \n",
       "1                  -0.758425        -0.319707         0.139063  \n",
       "2                   1.549395        -0.704841        -0.887579  \n",
       "3                  -0.450306         1.177055        -0.228491  \n",
       "4                   0.308889         1.240404         0.176107  "
      ]
     },
     "execution_count": 19,
     "metadata": {},
     "output_type": "execute_result"
    }
   ],
   "source": [
    "X2=pd.DataFrame(S1,columns=colss)\n",
    "X2.head()"
   ]
  },
  {
   "cell_type": "code",
   "execution_count": 20,
   "id": "2f2cf8d9-66e9-41e3-abf1-e80ee5b0320e",
   "metadata": {},
   "outputs": [
    {
     "data": {
      "text/plain": [
       "array([[<AxesSubplot:title={'center':'Life_Ladder'}>,\n",
       "        <AxesSubplot:title={'center':'Log_GDP_per_capita'}>,\n",
       "        <AxesSubplot:title={'center':'Social_support'}>,\n",
       "        <AxesSubplot:title={'center':'Healthy_life_expectancy_at_birth'}>,\n",
       "        <AxesSubplot:title={'center':'Freedom_to_make_life_choices'}>,\n",
       "        <AxesSubplot:title={'center':'Generosity'}>,\n",
       "        <AxesSubplot:title={'center':'Perceptions_of_corruption'}>,\n",
       "        <AxesSubplot:title={'center':'Positive affect'}>,\n",
       "        <AxesSubplot:title={'center':'Negative_affect'}>]], dtype=object)"
      ]
     },
     "execution_count": 20,
     "metadata": {},
     "output_type": "execute_result"
    },
    {
     "data": {
      "image/png": "[encoded data removed]",
      "text/plain": [
       "<Figure size 1944x252 with 9 Axes>"
      ]
     },
     "metadata": {},
     "output_type": "display_data"
    }
   ],
   "source": [
    "X2[colss].hist(layout=(1,len(colss)),figsize=(3*len(colss),3.5),color='pink')"
   ]
  },
  {
   "cell_type": "code",
   "execution_count": 21,
   "id": "c5517256-f43d-4e44-b38c-b55ff8eeb8bc",
   "metadata": {},
   "outputs": [],
   "source": [
    "def sil_score(X2,from_k=2,to_k=6):\n",
    "    sils=[]\n",
    "    for k in range(from_k,to_k+1):\n",
    "        m=KMeans(n_clusters=k)\n",
    "        m.fit(X2)\n",
    "        silhouette_avg=silhouette_score(X2,m.labels_).round(4)\n",
    "        sils.append([silhouette_avg,k])\n",
    "        \n",
    "    return sils"
   ]
  },
  {
   "cell_type": "code",
   "execution_count": 22,
   "id": "25e45292-5612-443f-a643-96897def1e0f",
   "metadata": {},
   "outputs": [
    {
     "name": "stdout",
     "output_type": "stream",
     "text": [
      "score=[[0.2868, 2], [0.2626, 3], [0.2562, 4], [0.2434, 5]]\n"
     ]
    }
   ],
   "source": [
    "ss=sil_score(X2,2,5)\n",
    "print(f'score={ss}')"
   ]
  },
  {
   "cell_type": "code",
   "execution_count": 23,
   "id": "0b53babd-db4a-41d8-beb0-c7423c94f6d3",
   "metadata": {},
   "outputs": [],
   "source": [
    "def silhouette_plot(X2, from_k,to_k):\n",
    "    sil_scores=[]\n",
    "    for k in range (from_k,to_k+1):\n",
    "        m=KMeans(n_clusters=k)\n",
    "        visualizer=SilhouetteVisualizer(m)\n",
    "        visualizer.fit(X2)\n",
    "        visualizer.poof()\n",
    "        sil_scores.append([visualizer.silhouette_score_,k])\n",
    "    return sil_scores"
   ]
  },
  {
   "cell_type": "code",
   "execution_count": 24,
   "id": "a20c6f15-cc6d-460b-9ae9-380354216bc4",
   "metadata": {},
   "outputs": [
    {
     "data": {
      "image/png": "[encoded data removed]",
      "text/plain": [
       "<Figure size 576x396 with 1 Axes>"
      ]
     },
     "metadata": {},
     "output_type": "display_data"
    },
    {
     "data": {
      "image/png": "[encoded data removed]",
      "text/plain": [
       "<Figure size 576x396 with 1 Axes>"
      ]
     },
     "metadata": {},
     "output_type": "display_data"
    },
    {
     "data": {
      "image/png": "[encoded data removed]",
      "text/plain": [
       "<Figure size 576x396 with 1 Axes>"
      ]
     },
     "metadata": {},
     "output_type": "display_data"
    },
    {
     "data": {
      "image/png": "[encoded data removed]",
      "text/plain": [
       "<Figure size 576x396 with 1 Axes>"
      ]
     },
     "metadata": {},
     "output_type": "display_data"
    }
   ],
   "source": [
    "scores=silhouette_plot(X2,2,5)"
   ]
  },
  {
   "cell_type": "code",
   "execution_count": 25,
   "id": "9bf77ea3-a6d3-4850-9aa6-522763fe491a",
   "metadata": {},
   "outputs": [
    {
     "name": "stdout",
     "output_type": "stream",
     "text": [
      "[[0.28680753772611217, 2], [0.2626182445426764, 3], [0.25622753514125285, 4], [0.24601095625723307, 5]]\n"
     ]
    }
   ],
   "source": [
    "print(scores)"
   ]
  },
  {
   "cell_type": "code",
   "execution_count": 26,
   "id": "cce30c30-f546-4bb2-a856-98ca638734e9",
   "metadata": {},
   "outputs": [],
   "source": [
    "from yellowbrick.cluster import SilhouetteVisualizer"
   ]
  },
  {
   "cell_type": "code",
   "execution_count": 27,
   "id": "b2f2250d-fe9f-492f-b4d2-73d6f2e1bca0",
   "metadata": {},
   "outputs": [],
   "source": [
    "cols1=['Life_Ladder', 'Log_GDP_per_capita', 'Social_support',\n",
    "       'Healthy_life_expectancy_at_birth', 'Freedom_to_make_life_choices',\n",
    "       'Generosity', 'Perceptions_of_corruption', 'Positive affect',\n",
    "       'Negative_affect',]"
   ]
  },
  {
   "cell_type": "code",
   "execution_count": 28,
   "id": "a654cead-7984-4530-8c12-9c463c64d318",
   "metadata": {},
   "outputs": [
    {
     "data": {
      "text/plain": [
       "array([[-0.4889, -1.6087,  0.1168, -1.6883, -0.5233, -0.4544,  1.6665,\n",
       "        -0.8834, -0.2844],\n",
       "       [-0.8354, -1.2212, -0.1209, -1.4397, -0.3406,  0.1595, -0.7584,\n",
       "        -0.3197,  0.1391],\n",
       "       [-1.3873, -1.1228, -2.1343, -1.1767, -0.4027,  0.4946,  1.5494,\n",
       "        -0.7048, -0.8876],\n",
       "       [-2.0641, -1.2221,  0.0711, -0.8987, -0.3924,  1.3824, -0.4503,\n",
       "         1.1771, -0.2285],\n",
       "       [ 0.4802, -0.6545,  0.259 , -0.6048, -0.613 ,  1.4748,  0.3089,\n",
       "         1.2404,  0.1761],\n",
       "       [ 1.4803, -0.624 , -0.295 , -0.4058,  1.5715,  0.2503,  0.7546,\n",
       "         1.7483, -2.0269],\n",
       "       [ 0.6909, -0.0583,  0.6319, -0.1996, -0.9135,  0.0487, -0.1855,\n",
       "         0.281 , -1.1599]])"
      ]
     },
     "execution_count": 28,
     "metadata": {},
     "output_type": "execute_result"
    }
   ],
   "source": [
    "scaler=preprocessing.PowerTransformer(standardize=True)\n",
    "S=scaler.fit_transform(df1[cols1])\n",
    "S[:7].round(4)"
   ]
  },
  {
   "cell_type": "code",
   "execution_count": 29,
   "id": "fa19ef34-00d0-4356-96cd-06b0dd0f4d86",
   "metadata": {},
   "outputs": [
    {
     "data": {
      "text/html": [
       "<div>\n",
       "<style scoped>\n",
       "    .dataframe tbody tr th:only-of-type {\n",
       "        vertical-align: middle;\n",
       "    }\n",
       "\n",
       "    .dataframe tbody tr th {\n",
       "        vertical-align: top;\n",
       "    }\n",
       "\n",
       "    .dataframe thead th {\n",
       "        text-align: right;\n",
       "    }\n",
       "</style>\n",
       "<table border=\"1\" class=\"dataframe\">\n",
       "  <thead>\n",
       "    <tr style=\"text-align: right;\">\n",
       "      <th></th>\n",
       "      <th>Life_Ladder</th>\n",
       "      <th>Log_GDP_per_capita</th>\n",
       "      <th>Social_support</th>\n",
       "      <th>Healthy_life_expectancy_at_birth</th>\n",
       "      <th>Freedom_to_make_life_choices</th>\n",
       "      <th>Generosity</th>\n",
       "      <th>Perceptions_of_corruption</th>\n",
       "      <th>Positive affect</th>\n",
       "      <th>Negative_affect</th>\n",
       "    </tr>\n",
       "  </thead>\n",
       "  <tbody>\n",
       "    <tr>\n",
       "      <th>0</th>\n",
       "      <td>-0.488881</td>\n",
       "      <td>-1.608657</td>\n",
       "      <td>0.116805</td>\n",
       "      <td>-1.688276</td>\n",
       "      <td>-0.523344</td>\n",
       "      <td>-0.454364</td>\n",
       "      <td>1.666541</td>\n",
       "      <td>-0.883384</td>\n",
       "      <td>-0.284443</td>\n",
       "    </tr>\n",
       "    <tr>\n",
       "      <th>1</th>\n",
       "      <td>-0.835404</td>\n",
       "      <td>-1.221190</td>\n",
       "      <td>-0.120868</td>\n",
       "      <td>-1.439679</td>\n",
       "      <td>-0.340634</td>\n",
       "      <td>0.159480</td>\n",
       "      <td>-0.758425</td>\n",
       "      <td>-0.319707</td>\n",
       "      <td>0.139063</td>\n",
       "    </tr>\n",
       "    <tr>\n",
       "      <th>2</th>\n",
       "      <td>-1.387326</td>\n",
       "      <td>-1.122848</td>\n",
       "      <td>-2.134271</td>\n",
       "      <td>-1.176749</td>\n",
       "      <td>-0.402740</td>\n",
       "      <td>0.494579</td>\n",
       "      <td>1.549395</td>\n",
       "      <td>-0.704841</td>\n",
       "      <td>-0.887579</td>\n",
       "    </tr>\n",
       "    <tr>\n",
       "      <th>3</th>\n",
       "      <td>-2.064066</td>\n",
       "      <td>-1.222137</td>\n",
       "      <td>0.071096</td>\n",
       "      <td>-0.898727</td>\n",
       "      <td>-0.392402</td>\n",
       "      <td>1.382370</td>\n",
       "      <td>-0.450306</td>\n",
       "      <td>1.177055</td>\n",
       "      <td>-0.228491</td>\n",
       "    </tr>\n",
       "    <tr>\n",
       "      <th>4</th>\n",
       "      <td>0.480227</td>\n",
       "      <td>-0.654489</td>\n",
       "      <td>0.259009</td>\n",
       "      <td>-0.604846</td>\n",
       "      <td>-0.612978</td>\n",
       "      <td>1.474844</td>\n",
       "      <td>0.308889</td>\n",
       "      <td>1.240404</td>\n",
       "      <td>0.176107</td>\n",
       "    </tr>\n",
       "  </tbody>\n",
       "</table>\n",
       "</div>"
      ],
      "text/plain": [
       "   Life_Ladder  Log_GDP_per_capita  Social_support  \\\n",
       "0    -0.488881           -1.608657        0.116805   \n",
       "1    -0.835404           -1.221190       -0.120868   \n",
       "2    -1.387326           -1.122848       -2.134271   \n",
       "3    -2.064066           -1.222137        0.071096   \n",
       "4     0.480227           -0.654489        0.259009   \n",
       "\n",
       "   Healthy_life_expectancy_at_birth  Freedom_to_make_life_choices  Generosity  \\\n",
       "0                         -1.688276                     -0.523344   -0.454364   \n",
       "1                         -1.439679                     -0.340634    0.159480   \n",
       "2                         -1.176749                     -0.402740    0.494579   \n",
       "3                         -0.898727                     -0.392402    1.382370   \n",
       "4                         -0.604846                     -0.612978    1.474844   \n",
       "\n",
       "   Perceptions_of_corruption  Positive affect  Negative_affect  \n",
       "0                   1.666541        -0.883384        -0.284443  \n",
       "1                  -0.758425        -0.319707         0.139063  \n",
       "2                   1.549395        -0.704841        -0.887579  \n",
       "3                  -0.450306         1.177055        -0.228491  \n",
       "4                   0.308889         1.240404         0.176107  "
      ]
     },
     "execution_count": 29,
     "metadata": {},
     "output_type": "execute_result"
    }
   ],
   "source": [
    "X11=pd.DataFrame(X2,columns=cols1)\n",
    "X11.head()"
   ]
  },
  {
   "cell_type": "code",
   "execution_count": 30,
   "id": "a94b5877-38db-433b-9f27-89066dee93c8",
   "metadata": {},
   "outputs": [],
   "source": [
    "model=KMeans(n_clusters=2)"
   ]
  },
  {
   "cell_type": "code",
   "execution_count": 31,
   "id": "6a460693-588b-4fc7-8c3a-0be38321c4bf",
   "metadata": {},
   "outputs": [
    {
     "data": {
      "text/plain": [
       "array([[-0.489, -1.609,  0.117, -1.688, -0.523, -0.454,  1.667, -0.883,\n",
       "        -0.284],\n",
       "       [-0.835, -1.221, -0.121, -1.44 , -0.341,  0.159, -0.758, -0.32 ,\n",
       "         0.139],\n",
       "       [-1.387, -1.123, -2.134, -1.177, -0.403,  0.495,  1.549, -0.705,\n",
       "        -0.888],\n",
       "       [-2.064, -1.222,  0.071, -0.899, -0.392,  1.382, -0.45 ,  1.177,\n",
       "        -0.228],\n",
       "       [ 0.48 , -0.654,  0.259, -0.605, -0.613,  1.475,  0.309,  1.24 ,\n",
       "         0.176],\n",
       "       [ 1.48 , -0.624, -0.295, -0.406,  1.572,  0.25 ,  0.755,  1.748,\n",
       "        -2.027],\n",
       "       [ 0.691, -0.058,  0.632, -0.2  , -0.914,  0.049, -0.186,  0.281,\n",
       "        -1.16 ]])"
      ]
     },
     "execution_count": 31,
     "metadata": {},
     "output_type": "execute_result"
    }
   ],
   "source": [
    "scaler=preprocessing.PowerTransformer(standardize=True)\n",
    "\n",
    "S=scaler.fit_transform(df1[cols1])\n",
    "S[:7].round(3)"
   ]
  },
  {
   "cell_type": "code",
   "execution_count": 32,
   "id": "56988f25-3377-484e-99f7-3d44f4522499",
   "metadata": {},
   "outputs": [
    {
     "data": {
      "image/png": "[encoded data removed]",
      "text/plain": [
       "<Figure size 576x396 with 1 Axes>"
      ]
     },
     "metadata": {},
     "output_type": "display_data"
    },
    {
     "data": {
      "text/plain": [
       "<AxesSubplot:title={'center':'Silhouette Plot of KMeans Clustering for 15 Samples in 2 Centers'}, xlabel='silhouette coefficient values', ylabel='cluster label'>"
      ]
     },
     "execution_count": 32,
     "metadata": {},
     "output_type": "execute_result"
    }
   ],
   "source": [
    "visualizer=SilhouetteVisualizer(model)\n",
    "visualizer.fit(X11)\n",
    "visualizer.poof()"
   ]
  },
  {
   "cell_type": "code",
   "execution_count": 33,
   "id": "a9eec5cd-a565-4f20-a932-f9e9538d3039",
   "metadata": {},
   "outputs": [
    {
     "name": "stdout",
     "output_type": "stream",
     "text": [
      "[0 0 0 0 0 0 0 0 0 0 1 1 1 1 1]\n"
     ]
    }
   ],
   "source": [
    "print(model.labels_)"
   ]
  },
  {
   "cell_type": "code",
   "execution_count": 34,
   "id": "e28a40c1-c8b6-4d41-9953-ef7a45fc597e",
   "metadata": {},
   "outputs": [
    {
     "data": {
      "text/html": [
       "<div>\n",
       "<style scoped>\n",
       "    .dataframe tbody tr th:only-of-type {\n",
       "        vertical-align: middle;\n",
       "    }\n",
       "\n",
       "    .dataframe tbody tr th {\n",
       "        vertical-align: top;\n",
       "    }\n",
       "\n",
       "    .dataframe thead th {\n",
       "        text-align: right;\n",
       "    }\n",
       "</style>\n",
       "<table border=\"1\" class=\"dataframe\">\n",
       "  <thead>\n",
       "    <tr style=\"text-align: right;\">\n",
       "      <th></th>\n",
       "      <th>Life_Ladder</th>\n",
       "      <th>Log_GDP_per_capita</th>\n",
       "      <th>Social_support</th>\n",
       "      <th>Healthy_life_expectancy_at_birth</th>\n",
       "      <th>Freedom_to_make_life_choices</th>\n",
       "      <th>Generosity</th>\n",
       "      <th>Perceptions_of_corruption</th>\n",
       "      <th>Positive affect</th>\n",
       "      <th>Negative_affect</th>\n",
       "      <th>cluster</th>\n",
       "    </tr>\n",
       "  </thead>\n",
       "  <tbody>\n",
       "    <tr>\n",
       "      <th>0</th>\n",
       "      <td>-0.488881</td>\n",
       "      <td>-1.608657</td>\n",
       "      <td>0.116805</td>\n",
       "      <td>-1.688276</td>\n",
       "      <td>-0.523344</td>\n",
       "      <td>-0.454364</td>\n",
       "      <td>1.666541</td>\n",
       "      <td>-0.883384</td>\n",
       "      <td>-0.284443</td>\n",
       "      <td>0</td>\n",
       "    </tr>\n",
       "    <tr>\n",
       "      <th>1</th>\n",
       "      <td>-0.835404</td>\n",
       "      <td>-1.221190</td>\n",
       "      <td>-0.120868</td>\n",
       "      <td>-1.439679</td>\n",
       "      <td>-0.340634</td>\n",
       "      <td>0.159480</td>\n",
       "      <td>-0.758425</td>\n",
       "      <td>-0.319707</td>\n",
       "      <td>0.139063</td>\n",
       "      <td>0</td>\n",
       "    </tr>\n",
       "    <tr>\n",
       "      <th>2</th>\n",
       "      <td>-1.387326</td>\n",
       "      <td>-1.122848</td>\n",
       "      <td>-2.134271</td>\n",
       "      <td>-1.176749</td>\n",
       "      <td>-0.402740</td>\n",
       "      <td>0.494579</td>\n",
       "      <td>1.549395</td>\n",
       "      <td>-0.704841</td>\n",
       "      <td>-0.887579</td>\n",
       "      <td>0</td>\n",
       "    </tr>\n",
       "    <tr>\n",
       "      <th>3</th>\n",
       "      <td>-2.064066</td>\n",
       "      <td>-1.222137</td>\n",
       "      <td>0.071096</td>\n",
       "      <td>-0.898727</td>\n",
       "      <td>-0.392402</td>\n",
       "      <td>1.382370</td>\n",
       "      <td>-0.450306</td>\n",
       "      <td>1.177055</td>\n",
       "      <td>-0.228491</td>\n",
       "      <td>0</td>\n",
       "    </tr>\n",
       "    <tr>\n",
       "      <th>4</th>\n",
       "      <td>0.480227</td>\n",
       "      <td>-0.654489</td>\n",
       "      <td>0.259009</td>\n",
       "      <td>-0.604846</td>\n",
       "      <td>-0.612978</td>\n",
       "      <td>1.474844</td>\n",
       "      <td>0.308889</td>\n",
       "      <td>1.240404</td>\n",
       "      <td>0.176107</td>\n",
       "      <td>0</td>\n",
       "    </tr>\n",
       "  </tbody>\n",
       "</table>\n",
       "</div>"
      ],
      "text/plain": [
       "   Life_Ladder  Log_GDP_per_capita  Social_support  \\\n",
       "0    -0.488881           -1.608657        0.116805   \n",
       "1    -0.835404           -1.221190       -0.120868   \n",
       "2    -1.387326           -1.122848       -2.134271   \n",
       "3    -2.064066           -1.222137        0.071096   \n",
       "4     0.480227           -0.654489        0.259009   \n",
       "\n",
       "   Healthy_life_expectancy_at_birth  Freedom_to_make_life_choices  Generosity  \\\n",
       "0                         -1.688276                     -0.523344   -0.454364   \n",
       "1                         -1.439679                     -0.340634    0.159480   \n",
       "2                         -1.176749                     -0.402740    0.494579   \n",
       "3                         -0.898727                     -0.392402    1.382370   \n",
       "4                         -0.604846                     -0.612978    1.474844   \n",
       "\n",
       "   Perceptions_of_corruption  Positive affect  Negative_affect  cluster  \n",
       "0                   1.666541        -0.883384        -0.284443        0  \n",
       "1                  -0.758425        -0.319707         0.139063        0  \n",
       "2                   1.549395        -0.704841        -0.887579        0  \n",
       "3                  -0.450306         1.177055        -0.228491        0  \n",
       "4                   0.308889         1.240404         0.176107        0  "
      ]
     },
     "execution_count": 34,
     "metadata": {},
     "output_type": "execute_result"
    }
   ],
   "source": [
    "dfml=X11\n",
    "dfml['cluster']=model.labels_\n",
    "dfml.head()"
   ]
  },
  {
   "cell_type": "markdown",
   "id": "cb068e55-ba37-4c1d-bdd0-67da387f5219",
   "metadata": {},
   "source": [
    "**Evalution**"
   ]
  },
  {
   "cell_type": "code",
   "execution_count": 35,
   "id": "4c177ff7-4fc7-4358-993c-d4e7d2f808be",
   "metadata": {},
   "outputs": [
    {
     "data": {
      "text/plain": [
       "0.28680753772611217"
      ]
     },
     "execution_count": 35,
     "metadata": {},
     "output_type": "execute_result"
    }
   ],
   "source": [
    "visualizer.silhouette_score_"
   ]
  },
  {
   "cell_type": "code",
   "execution_count": 36,
   "id": "88ab7e32-3f1e-437d-9f0a-b043009ce2d7",
   "metadata": {},
   "outputs": [
    {
     "name": "stdout",
     "output_type": "stream",
     "text": [
      "Score -> 0.29\n"
     ]
    }
   ],
   "source": [
    "print('Score -> {:.2f}'.format(visualizer.silhouette_score_))"
   ]
  },
  {
   "cell_type": "markdown",
   "id": "ef6d099c-db87-42de-bde8-02e20f361ca2",
   "metadata": {},
   "source": [
    "**Deployment**"
   ]
  },
  {
   "cell_type": "code",
   "execution_count": 37,
   "id": "d6650d38-0b74-4595-abdb-2ad144b73da3",
   "metadata": {},
   "outputs": [],
   "source": [
    "df1['cluster']=model.labels_"
   ]
  },
  {
   "cell_type": "code",
   "execution_count": 38,
   "id": "cd384bc4-554b-452b-9940-baf64f5801a1",
   "metadata": {},
   "outputs": [],
   "source": [
    "xc = np.array(model.labels_)\n",
    "class_names = ['happy', 'unhappy']\n",
    "xc = np.array([class_names[label] for label in xc])"
   ]
  },
  {
   "cell_type": "code",
   "execution_count": 39,
   "id": "45c01a47-dd10-47ba-b849-b3cfee8eac13",
   "metadata": {},
   "outputs": [],
   "source": [
    "df1['what_happiness']=xc"
   ]
  },
  {
   "cell_type": "code",
   "execution_count": 40,
   "id": "1d55b26d-6c9f-4221-a403-ce21dbae18a4",
   "metadata": {},
   "outputs": [
    {
     "data": {
      "text/html": [
       "<div>\n",
       "<style scoped>\n",
       "    .dataframe tbody tr th:only-of-type {\n",
       "        vertical-align: middle;\n",
       "    }\n",
       "\n",
       "    .dataframe tbody tr th {\n",
       "        vertical-align: top;\n",
       "    }\n",
       "\n",
       "    .dataframe thead th {\n",
       "        text-align: right;\n",
       "    }\n",
       "</style>\n",
       "<table border=\"1\" class=\"dataframe\">\n",
       "  <thead>\n",
       "    <tr style=\"text-align: right;\">\n",
       "      <th></th>\n",
       "      <th>Country_name</th>\n",
       "      <th>Life_Ladder</th>\n",
       "      <th>Log_GDP_per_capita</th>\n",
       "      <th>Social_support</th>\n",
       "      <th>Healthy_life_expectancy_at_birth</th>\n",
       "      <th>Freedom_to_make_life_choices</th>\n",
       "      <th>Generosity</th>\n",
       "      <th>Perceptions_of_corruption</th>\n",
       "      <th>Positive affect</th>\n",
       "      <th>Negative_affect</th>\n",
       "      <th>cluster</th>\n",
       "      <th>what_happiness</th>\n",
       "    </tr>\n",
       "    <tr>\n",
       "      <th>year</th>\n",
       "      <th></th>\n",
       "      <th></th>\n",
       "      <th></th>\n",
       "      <th></th>\n",
       "      <th></th>\n",
       "      <th></th>\n",
       "      <th></th>\n",
       "      <th></th>\n",
       "      <th></th>\n",
       "      <th></th>\n",
       "      <th></th>\n",
       "      <th></th>\n",
       "    </tr>\n",
       "  </thead>\n",
       "  <tbody>\n",
       "    <tr>\n",
       "      <th>2006</th>\n",
       "      <td>Thailand</td>\n",
       "      <td>5.885433</td>\n",
       "      <td>9.461148</td>\n",
       "      <td>0.894327</td>\n",
       "      <td>64.139999</td>\n",
       "      <td>0.863195</td>\n",
       "      <td>0.331460</td>\n",
       "      <td>0.934745</td>\n",
       "      <td>0.813509</td>\n",
       "      <td>0.164123</td>\n",
       "      <td>0</td>\n",
       "      <td>happy</td>\n",
       "    </tr>\n",
       "    <tr>\n",
       "      <th>2007</th>\n",
       "      <td>Thailand</td>\n",
       "      <td>5.783891</td>\n",
       "      <td>9.508475</td>\n",
       "      <td>0.888634</td>\n",
       "      <td>64.480003</td>\n",
       "      <td>0.870159</td>\n",
       "      <td>0.390946</td>\n",
       "      <td>0.897753</td>\n",
       "      <td>0.831810</td>\n",
       "      <td>0.180010</td>\n",
       "      <td>0</td>\n",
       "      <td>happy</td>\n",
       "    </tr>\n",
       "    <tr>\n",
       "      <th>2008</th>\n",
       "      <td>Thailand</td>\n",
       "      <td>5.636471</td>\n",
       "      <td>9.520327</td>\n",
       "      <td>0.831711</td>\n",
       "      <td>64.820000</td>\n",
       "      <td>0.867834</td>\n",
       "      <td>0.425482</td>\n",
       "      <td>0.933373</td>\n",
       "      <td>0.819038</td>\n",
       "      <td>0.145059</td>\n",
       "      <td>0</td>\n",
       "      <td>happy</td>\n",
       "    </tr>\n",
       "    <tr>\n",
       "      <th>2009</th>\n",
       "      <td>Thailand</td>\n",
       "      <td>5.475645</td>\n",
       "      <td>9.508361</td>\n",
       "      <td>0.893245</td>\n",
       "      <td>65.160004</td>\n",
       "      <td>0.868224</td>\n",
       "      <td>0.524908</td>\n",
       "      <td>0.903822</td>\n",
       "      <td>0.897641</td>\n",
       "      <td>0.166086</td>\n",
       "      <td>0</td>\n",
       "      <td>happy</td>\n",
       "    </tr>\n",
       "    <tr>\n",
       "      <th>2010</th>\n",
       "      <td>Thailand</td>\n",
       "      <td>6.216703</td>\n",
       "      <td>9.575911</td>\n",
       "      <td>0.897651</td>\n",
       "      <td>65.500000</td>\n",
       "      <td>0.859636</td>\n",
       "      <td>0.535985</td>\n",
       "      <td>0.916693</td>\n",
       "      <td>0.901268</td>\n",
       "      <td>0.181523</td>\n",
       "      <td>0</td>\n",
       "      <td>happy</td>\n",
       "    </tr>\n",
       "    <tr>\n",
       "      <th>2011</th>\n",
       "      <td>Thailand</td>\n",
       "      <td>6.663609</td>\n",
       "      <td>9.579475</td>\n",
       "      <td>0.884351</td>\n",
       "      <td>65.720001</td>\n",
       "      <td>0.926882</td>\n",
       "      <td>0.400159</td>\n",
       "      <td>0.923196</td>\n",
       "      <td>0.934374</td>\n",
       "      <td>0.116676</td>\n",
       "      <td>0</td>\n",
       "      <td>happy</td>\n",
       "    </tr>\n",
       "    <tr>\n",
       "      <th>2012</th>\n",
       "      <td>Thailand</td>\n",
       "      <td>6.300235</td>\n",
       "      <td>9.644709</td>\n",
       "      <td>0.906098</td>\n",
       "      <td>65.940002</td>\n",
       "      <td>0.846933</td>\n",
       "      <td>0.379859</td>\n",
       "      <td>0.908612</td>\n",
       "      <td>0.854544</td>\n",
       "      <td>0.137503</td>\n",
       "      <td>0</td>\n",
       "      <td>happy</td>\n",
       "    </tr>\n",
       "    <tr>\n",
       "      <th>2013</th>\n",
       "      <td>Thailand</td>\n",
       "      <td>6.231025</td>\n",
       "      <td>9.666691</td>\n",
       "      <td>0.926378</td>\n",
       "      <td>66.160004</td>\n",
       "      <td>0.781082</td>\n",
       "      <td>0.456227</td>\n",
       "      <td>0.925430</td>\n",
       "      <td>0.845981</td>\n",
       "      <td>0.140831</td>\n",
       "      <td>0</td>\n",
       "      <td>happy</td>\n",
       "    </tr>\n",
       "    <tr>\n",
       "      <th>2014</th>\n",
       "      <td>Thailand</td>\n",
       "      <td>6.985464</td>\n",
       "      <td>9.672178</td>\n",
       "      <td>0.933167</td>\n",
       "      <td>66.379997</td>\n",
       "      <td>0.899846</td>\n",
       "      <td>0.552521</td>\n",
       "      <td>0.919834</td>\n",
       "      <td>0.811370</td>\n",
       "      <td>0.168738</td>\n",
       "      <td>0</td>\n",
       "      <td>happy</td>\n",
       "    </tr>\n",
       "    <tr>\n",
       "      <th>2015</th>\n",
       "      <td>Thailand</td>\n",
       "      <td>6.201763</td>\n",
       "      <td>9.699015</td>\n",
       "      <td>0.866325</td>\n",
       "      <td>66.599998</td>\n",
       "      <td>0.884917</td>\n",
       "      <td>0.315948</td>\n",
       "      <td>0.913651</td>\n",
       "      <td>0.910497</td>\n",
       "      <td>0.174081</td>\n",
       "      <td>0</td>\n",
       "      <td>happy</td>\n",
       "    </tr>\n",
       "    <tr>\n",
       "      <th>2016</th>\n",
       "      <td>Thailand</td>\n",
       "      <td>6.073640</td>\n",
       "      <td>9.729001</td>\n",
       "      <td>0.907544</td>\n",
       "      <td>66.800003</td>\n",
       "      <td>0.924146</td>\n",
       "      <td>0.355719</td>\n",
       "      <td>0.877978</td>\n",
       "      <td>0.834758</td>\n",
       "      <td>0.217880</td>\n",
       "      <td>1</td>\n",
       "      <td>unhappy</td>\n",
       "    </tr>\n",
       "    <tr>\n",
       "      <th>2017</th>\n",
       "      <td>Thailand</td>\n",
       "      <td>5.938895</td>\n",
       "      <td>9.765407</td>\n",
       "      <td>0.877269</td>\n",
       "      <td>67.000000</td>\n",
       "      <td>0.922897</td>\n",
       "      <td>0.212491</td>\n",
       "      <td>0.883817</td>\n",
       "      <td>0.816322</td>\n",
       "      <td>0.231598</td>\n",
       "      <td>1</td>\n",
       "      <td>unhappy</td>\n",
       "    </tr>\n",
       "    <tr>\n",
       "      <th>2018</th>\n",
       "      <td>Thailand</td>\n",
       "      <td>6.011562</td>\n",
       "      <td>9.802921</td>\n",
       "      <td>0.873052</td>\n",
       "      <td>67.199997</td>\n",
       "      <td>0.904828</td>\n",
       "      <td>0.258844</td>\n",
       "      <td>0.906596</td>\n",
       "      <td>0.843489</td>\n",
       "      <td>0.198190</td>\n",
       "      <td>1</td>\n",
       "      <td>unhappy</td>\n",
       "    </tr>\n",
       "    <tr>\n",
       "      <th>2019</th>\n",
       "      <td>Thailand</td>\n",
       "      <td>6.022151</td>\n",
       "      <td>9.823529</td>\n",
       "      <td>0.903051</td>\n",
       "      <td>67.400002</td>\n",
       "      <td>0.898245</td>\n",
       "      <td>0.308830</td>\n",
       "      <td>0.877040</td>\n",
       "      <td>0.842873</td>\n",
       "      <td>0.208184</td>\n",
       "      <td>1</td>\n",
       "      <td>unhappy</td>\n",
       "    </tr>\n",
       "    <tr>\n",
       "      <th>2020</th>\n",
       "      <td>Thailand</td>\n",
       "      <td>5.884544</td>\n",
       "      <td>9.769243</td>\n",
       "      <td>0.866703</td>\n",
       "      <td>67.599998</td>\n",
       "      <td>0.840463</td>\n",
       "      <td>0.273056</td>\n",
       "      <td>0.918340</td>\n",
       "      <td>0.783270</td>\n",
       "      <td>0.326169</td>\n",
       "      <td>1</td>\n",
       "      <td>unhappy</td>\n",
       "    </tr>\n",
       "  </tbody>\n",
       "</table>\n",
       "</div>"
      ],
      "text/plain": [
       "     Country_name  Life_Ladder  Log_GDP_per_capita  Social_support  \\\n",
       "year                                                                 \n",
       "2006     Thailand     5.885433            9.461148        0.894327   \n",
       "2007     Thailand     5.783891            9.508475        0.888634   \n",
       "2008     Thailand     5.636471            9.520327        0.831711   \n",
       "2009     Thailand     5.475645            9.508361        0.893245   \n",
       "2010     Thailand     6.216703            9.575911        0.897651   \n",
       "2011     Thailand     6.663609            9.579475        0.884351   \n",
       "2012     Thailand     6.300235            9.644709        0.906098   \n",
       "2013     Thailand     6.231025            9.666691        0.926378   \n",
       "2014     Thailand     6.985464            9.672178        0.933167   \n",
       "2015     Thailand     6.201763            9.699015        0.866325   \n",
       "2016     Thailand     6.073640            9.729001        0.907544   \n",
       "2017     Thailand     5.938895            9.765407        0.877269   \n",
       "2018     Thailand     6.011562            9.802921        0.873052   \n",
       "2019     Thailand     6.022151            9.823529        0.903051   \n",
       "2020     Thailand     5.884544            9.769243        0.866703   \n",
       "\n",
       "      Healthy_life_expectancy_at_birth  Freedom_to_make_life_choices  \\\n",
       "year                                                                   \n",
       "2006                         64.139999                      0.863195   \n",
       "2007                         64.480003                      0.870159   \n",
       "2008                         64.820000                      0.867834   \n",
       "2009                         65.160004                      0.868224   \n",
       "2010                         65.500000                      0.859636   \n",
       "2011                         65.720001                      0.926882   \n",
       "2012                         65.940002                      0.846933   \n",
       "2013                         66.160004                      0.781082   \n",
       "2014                         66.379997                      0.899846   \n",
       "2015                         66.599998                      0.884917   \n",
       "2016                         66.800003                      0.924146   \n",
       "2017                         67.000000                      0.922897   \n",
       "2018                         67.199997                      0.904828   \n",
       "2019                         67.400002                      0.898245   \n",
       "2020                         67.599998                      0.840463   \n",
       "\n",
       "      Generosity  Perceptions_of_corruption  Positive affect  Negative_affect  \\\n",
       "year                                                                            \n",
       "2006    0.331460                   0.934745         0.813509         0.164123   \n",
       "2007    0.390946                   0.897753         0.831810         0.180010   \n",
       "2008    0.425482                   0.933373         0.819038         0.145059   \n",
       "2009    0.524908                   0.903822         0.897641         0.166086   \n",
       "2010    0.535985                   0.916693         0.901268         0.181523   \n",
       "2011    0.400159                   0.923196         0.934374         0.116676   \n",
       "2012    0.379859                   0.908612         0.854544         0.137503   \n",
       "2013    0.456227                   0.925430         0.845981         0.140831   \n",
       "2014    0.552521                   0.919834         0.811370         0.168738   \n",
       "2015    0.315948                   0.913651         0.910497         0.174081   \n",
       "2016    0.355719                   0.877978         0.834758         0.217880   \n",
       "2017    0.212491                   0.883817         0.816322         0.231598   \n",
       "2018    0.258844                   0.906596         0.843489         0.198190   \n",
       "2019    0.308830                   0.877040         0.842873         0.208184   \n",
       "2020    0.273056                   0.918340         0.783270         0.326169   \n",
       "\n",
       "      cluster what_happiness  \n",
       "year                          \n",
       "2006        0          happy  \n",
       "2007        0          happy  \n",
       "2008        0          happy  \n",
       "2009        0          happy  \n",
       "2010        0          happy  \n",
       "2011        0          happy  \n",
       "2012        0          happy  \n",
       "2013        0          happy  \n",
       "2014        0          happy  \n",
       "2015        0          happy  \n",
       "2016        1        unhappy  \n",
       "2017        1        unhappy  \n",
       "2018        1        unhappy  \n",
       "2019        1        unhappy  \n",
       "2020        1        unhappy  "
      ]
     },
     "execution_count": 40,
     "metadata": {},
     "output_type": "execute_result"
    }
   ],
   "source": [
    "df1"
   ]
  },
  {
   "cell_type": "code",
   "execution_count": 41,
   "id": "e63ba0bc-32f4-4717-b939-1b1eb2431398",
   "metadata": {},
   "outputs": [
    {
     "data": {
      "text/plain": [
       "<AxesSubplot:>"
      ]
     },
     "execution_count": 41,
     "metadata": {},
     "output_type": "execute_result"
    },
    {
     "data": {
      "image/png": "[encoded data removed]",
      "text/plain": [
       "<Figure size 576x396 with 2 Axes>"
      ]
     },
     "metadata": {},
     "output_type": "display_data"
    }
   ],
   "source": [
    "sop=df1.corr()\n",
    "sns.heatmap(sop,annot=True, cmap=\"Greens\")"
   ]
  }
 ],
 "metadata": {
  "kernelspec": {
   "display_name": "Python 3 (ipykernel)",
   "language": "python",
   "name": "python3"
  },
  "language_info": {
   "codemirror_mode": {
    "name": "ipython",
    "version": 3
   },
   "file_extension": ".py",
   "mimetype": "text/x-python",
   "name": "python",
   "nbconvert_exporter": "python",
   "pygments_lexer": "ipython3",
   "version": "3.9.12"
  }
 },
 "nbformat": 4,
 "nbformat_minor": 5
}
